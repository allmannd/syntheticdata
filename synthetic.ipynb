{
 "cells": [
  {
   "attachments": {},
   "cell_type": "markdown",
   "metadata": {},
   "source": [
    "import data:"
   ]
  },
  {
   "cell_type": "code",
   "execution_count": 7,
   "metadata": {},
   "outputs": [],
   "source": [
    "import warnings\n",
    "warnings.filterwarnings(\"ignore\")\n",
    "import pandas as pd\n",
    "df = pd.read_csv('C:\\workdir\\creditcard.csv')"
   ]
  },
  {
   "attachments": {},
   "cell_type": "markdown",
   "metadata": {},
   "source": [
    "skálázás ás metadata:"
   ]
  },
  {
   "cell_type": "code",
   "execution_count": 8,
   "metadata": {},
   "outputs": [],
   "source": [
    "from sklearn.preprocessing import RobustScaler\n",
    "from sdv.metadata import SingleTableMetadata\n",
    "\n",
    "metadata = SingleTableMetadata()\n",
    "scaler = RobustScaler()\n",
    "\n",
    "df['amount_scaled'] = scaler.fit_transform(df['Amount'].values.reshape(-1,1))\n",
    "df['time_scaled'] = scaler.fit_transform(df['Time'].values.reshape(-1,1))\n",
    "\n",
    "df.drop(['Time','Amount'], axis=1, inplace=True)\n",
    "df.head()\n",
    "\n",
    "metadata.detect_from_dataframe(data=df)\n",
    "metadata.validate()"
   ]
  },
  {
   "attachments": {},
   "cell_type": "markdown",
   "metadata": {},
   "source": [
    "Conditions:"
   ]
  },
  {
   "cell_type": "code",
   "execution_count": 9,
   "metadata": {},
   "outputs": [],
   "source": [
    "from sdv.sampling import Condition\n",
    "\n",
    "frauds = Condition(\n",
    "    num_rows=25000,\n",
    "    column_values={'Class': 1}\n",
    ")\n",
    "\n",
    "non_frauds = Condition(\n",
    "    num_rows=25000,\n",
    "    column_values={'Class': 0}\n",
    ")"
   ]
  },
  {
   "attachments": {},
   "cell_type": "markdown",
   "metadata": {},
   "source": [
    "synthetic data generation: CTGAN"
   ]
  },
  {
   "cell_type": "code",
   "execution_count": 10,
   "metadata": {},
   "outputs": [
    {
     "name": "stderr",
     "output_type": "stream",
     "text": [
      "c:\\Users\\I553277\\AppData\\Local\\Programs\\Python\\Python38\\lib\\site-packages\\rdt\\transformers\\numerical.py:100: UserWarning: No rounding scheme detected for column 'V1'. Data will not be rounded.\n",
      "  warnings.warn(\n",
      "c:\\Users\\I553277\\AppData\\Local\\Programs\\Python\\Python38\\lib\\site-packages\\rdt\\transformers\\numerical.py:100: UserWarning: No rounding scheme detected for column 'V2'. Data will not be rounded.\n",
      "  warnings.warn(\n",
      "c:\\Users\\I553277\\AppData\\Local\\Programs\\Python\\Python38\\lib\\site-packages\\rdt\\transformers\\numerical.py:100: UserWarning: No rounding scheme detected for column 'V3'. Data will not be rounded.\n",
      "  warnings.warn(\n",
      "c:\\Users\\I553277\\AppData\\Local\\Programs\\Python\\Python38\\lib\\site-packages\\rdt\\transformers\\numerical.py:100: UserWarning: No rounding scheme detected for column 'V4'. Data will not be rounded.\n",
      "  warnings.warn(\n",
      "c:\\Users\\I553277\\AppData\\Local\\Programs\\Python\\Python38\\lib\\site-packages\\rdt\\transformers\\numerical.py:100: UserWarning: No rounding scheme detected for column 'V5'. Data will not be rounded.\n",
      "  warnings.warn(\n",
      "c:\\Users\\I553277\\AppData\\Local\\Programs\\Python\\Python38\\lib\\site-packages\\rdt\\transformers\\numerical.py:100: UserWarning: No rounding scheme detected for column 'V6'. Data will not be rounded.\n",
      "  warnings.warn(\n",
      "c:\\Users\\I553277\\AppData\\Local\\Programs\\Python\\Python38\\lib\\site-packages\\rdt\\transformers\\numerical.py:100: UserWarning: No rounding scheme detected for column 'V7'. Data will not be rounded.\n",
      "  warnings.warn(\n",
      "c:\\Users\\I553277\\AppData\\Local\\Programs\\Python\\Python38\\lib\\site-packages\\rdt\\transformers\\numerical.py:100: UserWarning: No rounding scheme detected for column 'V8'. Data will not be rounded.\n",
      "  warnings.warn(\n",
      "c:\\Users\\I553277\\AppData\\Local\\Programs\\Python\\Python38\\lib\\site-packages\\rdt\\transformers\\numerical.py:100: UserWarning: No rounding scheme detected for column 'V9'. Data will not be rounded.\n",
      "  warnings.warn(\n",
      "c:\\Users\\I553277\\AppData\\Local\\Programs\\Python\\Python38\\lib\\site-packages\\rdt\\transformers\\numerical.py:100: UserWarning: No rounding scheme detected for column 'V10'. Data will not be rounded.\n",
      "  warnings.warn(\n",
      "c:\\Users\\I553277\\AppData\\Local\\Programs\\Python\\Python38\\lib\\site-packages\\rdt\\transformers\\numerical.py:100: UserWarning: No rounding scheme detected for column 'V11'. Data will not be rounded.\n",
      "  warnings.warn(\n",
      "c:\\Users\\I553277\\AppData\\Local\\Programs\\Python\\Python38\\lib\\site-packages\\rdt\\transformers\\numerical.py:100: UserWarning: No rounding scheme detected for column 'V12'. Data will not be rounded.\n",
      "  warnings.warn(\n",
      "c:\\Users\\I553277\\AppData\\Local\\Programs\\Python\\Python38\\lib\\site-packages\\rdt\\transformers\\numerical.py:100: UserWarning: No rounding scheme detected for column 'V13'. Data will not be rounded.\n",
      "  warnings.warn(\n",
      "c:\\Users\\I553277\\AppData\\Local\\Programs\\Python\\Python38\\lib\\site-packages\\rdt\\transformers\\numerical.py:100: UserWarning: No rounding scheme detected for column 'V14'. Data will not be rounded.\n",
      "  warnings.warn(\n",
      "c:\\Users\\I553277\\AppData\\Local\\Programs\\Python\\Python38\\lib\\site-packages\\rdt\\transformers\\numerical.py:100: UserWarning: No rounding scheme detected for column 'V15'. Data will not be rounded.\n",
      "  warnings.warn(\n",
      "c:\\Users\\I553277\\AppData\\Local\\Programs\\Python\\Python38\\lib\\site-packages\\rdt\\transformers\\numerical.py:100: UserWarning: No rounding scheme detected for column 'V16'. Data will not be rounded.\n",
      "  warnings.warn(\n",
      "c:\\Users\\I553277\\AppData\\Local\\Programs\\Python\\Python38\\lib\\site-packages\\rdt\\transformers\\numerical.py:100: UserWarning: No rounding scheme detected for column 'V17'. Data will not be rounded.\n",
      "  warnings.warn(\n",
      "c:\\Users\\I553277\\AppData\\Local\\Programs\\Python\\Python38\\lib\\site-packages\\rdt\\transformers\\numerical.py:100: UserWarning: No rounding scheme detected for column 'V18'. Data will not be rounded.\n",
      "  warnings.warn(\n",
      "c:\\Users\\I553277\\AppData\\Local\\Programs\\Python\\Python38\\lib\\site-packages\\rdt\\transformers\\numerical.py:100: UserWarning: No rounding scheme detected for column 'V19'. Data will not be rounded.\n",
      "  warnings.warn(\n",
      "c:\\Users\\I553277\\AppData\\Local\\Programs\\Python\\Python38\\lib\\site-packages\\rdt\\transformers\\numerical.py:100: UserWarning: No rounding scheme detected for column 'V20'. Data will not be rounded.\n",
      "  warnings.warn(\n",
      "c:\\Users\\I553277\\AppData\\Local\\Programs\\Python\\Python38\\lib\\site-packages\\rdt\\transformers\\numerical.py:100: UserWarning: No rounding scheme detected for column 'V21'. Data will not be rounded.\n",
      "  warnings.warn(\n",
      "c:\\Users\\I553277\\AppData\\Local\\Programs\\Python\\Python38\\lib\\site-packages\\rdt\\transformers\\numerical.py:100: UserWarning: No rounding scheme detected for column 'V22'. Data will not be rounded.\n",
      "  warnings.warn(\n",
      "c:\\Users\\I553277\\AppData\\Local\\Programs\\Python\\Python38\\lib\\site-packages\\rdt\\transformers\\numerical.py:100: UserWarning: No rounding scheme detected for column 'V23'. Data will not be rounded.\n",
      "  warnings.warn(\n",
      "c:\\Users\\I553277\\AppData\\Local\\Programs\\Python\\Python38\\lib\\site-packages\\rdt\\transformers\\numerical.py:100: UserWarning: No rounding scheme detected for column 'V24'. Data will not be rounded.\n",
      "  warnings.warn(\n",
      "c:\\Users\\I553277\\AppData\\Local\\Programs\\Python\\Python38\\lib\\site-packages\\rdt\\transformers\\numerical.py:100: UserWarning: No rounding scheme detected for column 'V25'. Data will not be rounded.\n",
      "  warnings.warn(\n",
      "c:\\Users\\I553277\\AppData\\Local\\Programs\\Python\\Python38\\lib\\site-packages\\rdt\\transformers\\numerical.py:100: UserWarning: No rounding scheme detected for column 'V26'. Data will not be rounded.\n",
      "  warnings.warn(\n",
      "c:\\Users\\I553277\\AppData\\Local\\Programs\\Python\\Python38\\lib\\site-packages\\rdt\\transformers\\numerical.py:100: UserWarning: No rounding scheme detected for column 'V27'. Data will not be rounded.\n",
      "  warnings.warn(\n",
      "c:\\Users\\I553277\\AppData\\Local\\Programs\\Python\\Python38\\lib\\site-packages\\rdt\\transformers\\numerical.py:100: UserWarning: No rounding scheme detected for column 'V28'. Data will not be rounded.\n",
      "  warnings.warn(\n",
      "c:\\Users\\I553277\\AppData\\Local\\Programs\\Python\\Python38\\lib\\site-packages\\rdt\\transformers\\numerical.py:100: UserWarning: No rounding scheme detected for column 'amount_scaled'. Data will not be rounded.\n",
      "  warnings.warn(\n",
      "c:\\Users\\I553277\\AppData\\Local\\Programs\\Python\\Python38\\lib\\site-packages\\rdt\\transformers\\numerical.py:100: UserWarning: No rounding scheme detected for column 'time_scaled'. Data will not be rounded.\n",
      "  warnings.warn(\n"
     ]
    },
    {
     "ename": "KeyboardInterrupt",
     "evalue": "",
     "output_type": "error",
     "traceback": [
      "\u001b[1;31m---------------------------------------------------------------------------\u001b[0m",
      "\u001b[1;31mKeyboardInterrupt\u001b[0m                         Traceback (most recent call last)",
      "Cell \u001b[1;32mIn[10], line 4\u001b[0m\n\u001b[0;32m      1\u001b[0m \u001b[39mfrom\u001b[39;00m \u001b[39msdv\u001b[39;00m\u001b[39m.\u001b[39;00m\u001b[39msingle_table\u001b[39;00m \u001b[39mimport\u001b[39;00m CTGANSynthesizer\n\u001b[0;32m      3\u001b[0m ctgan_synthesizer \u001b[39m=\u001b[39m CTGANSynthesizer(metadata)\n\u001b[1;32m----> 4\u001b[0m ctgan_synthesizer\u001b[39m.\u001b[39;49mfit(df)\n\u001b[0;32m      6\u001b[0m ctgan_df \u001b[39m=\u001b[39m ctgan_synthesizer\u001b[39m.\u001b[39msample_from_conditions(conditions\u001b[39m=\u001b[39m[frauds,non_frauds])\n\u001b[0;32m      7\u001b[0m ctgan_df\u001b[39m.\u001b[39mhead(\u001b[39m10\u001b[39m)\n",
      "File \u001b[1;32mc:\\Users\\I553277\\AppData\\Local\\Programs\\Python\\Python38\\lib\\site-packages\\sdv\\single_table\\base.py:457\u001b[0m, in \u001b[0;36mBaseSynthesizer.fit\u001b[1;34m(self, data)\u001b[0m\n\u001b[0;32m    455\u001b[0m \u001b[39mself\u001b[39m\u001b[39m.\u001b[39m_random_state_set \u001b[39m=\u001b[39m \u001b[39mFalse\u001b[39;00m\n\u001b[0;32m    456\u001b[0m processed_data \u001b[39m=\u001b[39m \u001b[39mself\u001b[39m\u001b[39m.\u001b[39m_preprocess(data)\n\u001b[1;32m--> 457\u001b[0m \u001b[39mself\u001b[39;49m\u001b[39m.\u001b[39;49mfit_processed_data(processed_data)\n",
      "File \u001b[1;32mc:\\Users\\I553277\\AppData\\Local\\Programs\\Python\\Python38\\lib\\site-packages\\sdv\\single_table\\base.py:441\u001b[0m, in \u001b[0;36mBaseSynthesizer.fit_processed_data\u001b[1;34m(self, processed_data)\u001b[0m\n\u001b[0;32m    434\u001b[0m \u001b[39mdef\u001b[39;00m \u001b[39mfit_processed_data\u001b[39m(\u001b[39mself\u001b[39m, processed_data):\n\u001b[0;32m    435\u001b[0m \u001b[39m    \u001b[39m\u001b[39m\"\"\"Fit this model to the transformed data.\u001b[39;00m\n\u001b[0;32m    436\u001b[0m \n\u001b[0;32m    437\u001b[0m \u001b[39m    Args:\u001b[39;00m\n\u001b[0;32m    438\u001b[0m \u001b[39m        processed_data (pandas.DataFrame):\u001b[39;00m\n\u001b[0;32m    439\u001b[0m \u001b[39m            The transformed data used to fit the model to.\u001b[39;00m\n\u001b[0;32m    440\u001b[0m \u001b[39m    \"\"\"\u001b[39;00m\n\u001b[1;32m--> 441\u001b[0m     \u001b[39mself\u001b[39;49m\u001b[39m.\u001b[39;49m_fit(processed_data)\n\u001b[0;32m    442\u001b[0m     \u001b[39mself\u001b[39m\u001b[39m.\u001b[39m_fitted \u001b[39m=\u001b[39m \u001b[39mTrue\u001b[39;00m\n\u001b[0;32m    443\u001b[0m     \u001b[39mself\u001b[39m\u001b[39m.\u001b[39m_fitted_date \u001b[39m=\u001b[39m datetime\u001b[39m.\u001b[39mdatetime\u001b[39m.\u001b[39mtoday()\u001b[39m.\u001b[39mstrftime(\u001b[39m'\u001b[39m\u001b[39m%\u001b[39m\u001b[39mY-\u001b[39m\u001b[39m%\u001b[39m\u001b[39mm-\u001b[39m\u001b[39m%d\u001b[39;00m\u001b[39m'\u001b[39m)\n",
      "File \u001b[1;32mc:\\Users\\I553277\\AppData\\Local\\Programs\\Python\\Python38\\lib\\site-packages\\sdv\\single_table\\ctgan.py:114\u001b[0m, in \u001b[0;36mCTGANSynthesizer._fit\u001b[1;34m(self, processed_data)\u001b[0m\n\u001b[0;32m    112\u001b[0m discrete_columns \u001b[39m=\u001b[39m detect_discrete_columns(\u001b[39mself\u001b[39m\u001b[39m.\u001b[39mget_metadata(), processed_data)\n\u001b[0;32m    113\u001b[0m \u001b[39mself\u001b[39m\u001b[39m.\u001b[39m_model \u001b[39m=\u001b[39m CTGAN(\u001b[39m*\u001b[39m\u001b[39m*\u001b[39m\u001b[39mself\u001b[39m\u001b[39m.\u001b[39m_model_kwargs)\n\u001b[1;32m--> 114\u001b[0m \u001b[39mself\u001b[39;49m\u001b[39m.\u001b[39;49m_model\u001b[39m.\u001b[39;49mfit(processed_data, discrete_columns\u001b[39m=\u001b[39;49mdiscrete_columns)\n",
      "File \u001b[1;32mc:\\Users\\I553277\\AppData\\Local\\Programs\\Python\\Python38\\lib\\site-packages\\ctgan\\synthesizers\\base.py:50\u001b[0m, in \u001b[0;36mrandom_state.<locals>.wrapper\u001b[1;34m(self, *args, **kwargs)\u001b[0m\n\u001b[0;32m     48\u001b[0m \u001b[39mdef\u001b[39;00m \u001b[39mwrapper\u001b[39m(\u001b[39mself\u001b[39m, \u001b[39m*\u001b[39margs, \u001b[39m*\u001b[39m\u001b[39m*\u001b[39mkwargs):\n\u001b[0;32m     49\u001b[0m     \u001b[39mif\u001b[39;00m \u001b[39mself\u001b[39m\u001b[39m.\u001b[39mrandom_states \u001b[39mis\u001b[39;00m \u001b[39mNone\u001b[39;00m:\n\u001b[1;32m---> 50\u001b[0m         \u001b[39mreturn\u001b[39;00m function(\u001b[39mself\u001b[39;49m, \u001b[39m*\u001b[39;49margs, \u001b[39m*\u001b[39;49m\u001b[39m*\u001b[39;49mkwargs)\n\u001b[0;32m     52\u001b[0m     \u001b[39melse\u001b[39;00m:\n\u001b[0;32m     53\u001b[0m         \u001b[39mwith\u001b[39;00m set_random_states(\u001b[39mself\u001b[39m\u001b[39m.\u001b[39mrandom_states, \u001b[39mself\u001b[39m\u001b[39m.\u001b[39mset_random_state):\n",
      "File \u001b[1;32mc:\\Users\\I553277\\AppData\\Local\\Programs\\Python\\Python38\\lib\\site-packages\\ctgan\\synthesizers\\ctgan.py:386\u001b[0m, in \u001b[0;36mCTGAN.fit\u001b[1;34m(self, train_data, discrete_columns, epochs)\u001b[0m\n\u001b[0;32m    384\u001b[0m     optimizerD\u001b[39m.\u001b[39mzero_grad()\n\u001b[0;32m    385\u001b[0m     pen\u001b[39m.\u001b[39mbackward(retain_graph\u001b[39m=\u001b[39m\u001b[39mTrue\u001b[39;00m)\n\u001b[1;32m--> 386\u001b[0m     loss_d\u001b[39m.\u001b[39;49mbackward()\n\u001b[0;32m    387\u001b[0m     optimizerD\u001b[39m.\u001b[39mstep()\n\u001b[0;32m    389\u001b[0m fakez \u001b[39m=\u001b[39m torch\u001b[39m.\u001b[39mnormal(mean\u001b[39m=\u001b[39mmean, std\u001b[39m=\u001b[39mstd)\n",
      "File \u001b[1;32mc:\\Users\\I553277\\AppData\\Local\\Programs\\Python\\Python38\\lib\\site-packages\\torch\\_tensor.py:488\u001b[0m, in \u001b[0;36mTensor.backward\u001b[1;34m(self, gradient, retain_graph, create_graph, inputs)\u001b[0m\n\u001b[0;32m    478\u001b[0m \u001b[39mif\u001b[39;00m has_torch_function_unary(\u001b[39mself\u001b[39m):\n\u001b[0;32m    479\u001b[0m     \u001b[39mreturn\u001b[39;00m handle_torch_function(\n\u001b[0;32m    480\u001b[0m         Tensor\u001b[39m.\u001b[39mbackward,\n\u001b[0;32m    481\u001b[0m         (\u001b[39mself\u001b[39m,),\n\u001b[1;32m   (...)\u001b[0m\n\u001b[0;32m    486\u001b[0m         inputs\u001b[39m=\u001b[39minputs,\n\u001b[0;32m    487\u001b[0m     )\n\u001b[1;32m--> 488\u001b[0m torch\u001b[39m.\u001b[39;49mautograd\u001b[39m.\u001b[39;49mbackward(\n\u001b[0;32m    489\u001b[0m     \u001b[39mself\u001b[39;49m, gradient, retain_graph, create_graph, inputs\u001b[39m=\u001b[39;49minputs\n\u001b[0;32m    490\u001b[0m )\n",
      "File \u001b[1;32mc:\\Users\\I553277\\AppData\\Local\\Programs\\Python\\Python38\\lib\\site-packages\\torch\\autograd\\__init__.py:197\u001b[0m, in \u001b[0;36mbackward\u001b[1;34m(tensors, grad_tensors, retain_graph, create_graph, grad_variables, inputs)\u001b[0m\n\u001b[0;32m    192\u001b[0m     retain_graph \u001b[39m=\u001b[39m create_graph\n\u001b[0;32m    194\u001b[0m \u001b[39m# The reason we repeat same the comment below is that\u001b[39;00m\n\u001b[0;32m    195\u001b[0m \u001b[39m# some Python versions print out the first line of a multi-line function\u001b[39;00m\n\u001b[0;32m    196\u001b[0m \u001b[39m# calls in the traceback and some print out the last line\u001b[39;00m\n\u001b[1;32m--> 197\u001b[0m Variable\u001b[39m.\u001b[39;49m_execution_engine\u001b[39m.\u001b[39;49mrun_backward(  \u001b[39m# Calls into the C++ engine to run the backward pass\u001b[39;49;00m\n\u001b[0;32m    198\u001b[0m     tensors, grad_tensors_, retain_graph, create_graph, inputs,\n\u001b[0;32m    199\u001b[0m     allow_unreachable\u001b[39m=\u001b[39;49m\u001b[39mTrue\u001b[39;49;00m, accumulate_grad\u001b[39m=\u001b[39;49m\u001b[39mTrue\u001b[39;49;00m)\n",
      "\u001b[1;31mKeyboardInterrupt\u001b[0m: "
     ]
    }
   ],
   "source": [
    "from sdv.single_table import CTGANSynthesizer\n",
    "\n",
    "ctgan_synthesizer = CTGANSynthesizer(metadata)\n",
    "ctgan_synthesizer.fit(df)\n",
    "\n",
    "ctgan_df = ctgan_synthesizer.sample_from_conditions(conditions=[frauds,non_frauds])\n",
    "ctgan_df.head(10)"
   ]
  },
  {
   "attachments": {},
   "cell_type": "markdown",
   "metadata": {},
   "source": [
    "TVAE:"
   ]
  },
  {
   "cell_type": "code",
   "execution_count": null,
   "metadata": {},
   "outputs": [],
   "source": [
    "from sdv.single_table import TVAESynthesizer\n",
    "\n",
    "tvae_synthesizer = TVAESynthesizer(metadata)\n",
    "tvae_synthesizer.fit(df)\n",
    "\n",
    "tvae_df = tvae_synthesizer.sample_from_conditions(conditions=[frauds,non_frauds])\n",
    "tvae_df.head(10)"
   ]
  },
  {
   "attachments": {},
   "cell_type": "markdown",
   "metadata": {},
   "source": [
    "Evaluate the two synthetic dataframes:"
   ]
  },
  {
   "cell_type": "code",
   "execution_count": null,
   "metadata": {},
   "outputs": [],
   "source": [
    "from sdv.evaluation.single_table import evaluate_quality\n",
    "\n",
    "quality_report_ctgan = evaluate_quality(\n",
    "    real_data=df,\n",
    "    synthetic_data=ctgan_df,\n",
    "    metadata=metadata)"
   ]
  },
  {
   "cell_type": "code",
   "execution_count": null,
   "metadata": {},
   "outputs": [],
   "source": [
    "quality_report_tvae = evaluate_quality(\n",
    "    real_data=df,\n",
    "    synthetic_data=tvae_df,\n",
    "    metadata=metadata)"
   ]
  },
  {
   "cell_type": "code",
   "execution_count": null,
   "metadata": {},
   "outputs": [],
   "source": [
    "from sdv.evaluation.single_table import get_column_plot\n",
    "\n",
    "fig = get_column_plot(\n",
    "    real_data=df,\n",
    "    synthetic_data=ctgan_df,\n",
    "    column_name='Class',\n",
    "    metadata=metadata\n",
    ")\n",
    "    \n",
    "fig.show()"
   ]
  },
  {
   "cell_type": "code",
   "execution_count": null,
   "metadata": {},
   "outputs": [],
   "source": [
    "from sdv.evaluation.single_table import get_column_plot\n",
    "\n",
    "fig = get_column_plot(\n",
    "    real_data=df,\n",
    "    synthetic_data=tvae_df,\n",
    "    column_name='Class',\n",
    "    metadata=metadata\n",
    ")\n",
    "    \n",
    "fig.show()"
   ]
  },
  {
   "cell_type": "code",
   "execution_count": null,
   "metadata": {},
   "outputs": [],
   "source": [
    "import matplotlib.pyplot as plt\n",
    "import seaborn as sns\n",
    "\n",
    "print('Csalás: ', ctgan_df['Class'].value_counts()[1])\n",
    "print('Nem csalás: ', ctgan_df['Class'].value_counts()[0])\n",
    "sns.countplot(x=ctgan_df['Class'])\n",
    "plt.show()"
   ]
  }
 ],
 "metadata": {
  "kernelspec": {
   "display_name": "Python 3",
   "language": "python",
   "name": "python3"
  },
  "language_info": {
   "codemirror_mode": {
    "name": "ipython",
    "version": 3
   },
   "file_extension": ".py",
   "mimetype": "text/x-python",
   "name": "python",
   "nbconvert_exporter": "python",
   "pygments_lexer": "ipython3",
   "version": "3.8.10"
  },
  "orig_nbformat": 4
 },
 "nbformat": 4,
 "nbformat_minor": 2
}
